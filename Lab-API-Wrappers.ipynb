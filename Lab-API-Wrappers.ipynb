{
 "cells": [
  {
   "cell_type": "markdown",
   "id": "ac9bdd12",
   "metadata": {},
   "source": [
    "#### Authentification"
   ]
  },
  {
   "cell_type": "code",
   "execution_count": 11,
   "id": "761195d9",
   "metadata": {},
   "outputs": [],
   "source": [
    "import spotipy\n",
    "from spotipy.oauth2 import SpotifyClientCredentials\n",
    "\n",
    "#Initialize SpotiPy with user credentials\n",
    "#sp = spotipy.Spotify(auth_manager=SpotifyClientCredentials(client_id='<your client id here>',\n",
    "#                                                          client_secret='<your client secret here>'))"
   ]
  },
  {
   "cell_type": "code",
   "execution_count": 12,
   "id": "43c86e5c",
   "metadata": {},
   "outputs": [],
   "source": [
    "secrets_file = open(\"secrets.txt\",\"r\")"
   ]
  },
  {
   "cell_type": "code",
   "execution_count": 13,
   "id": "2048e011",
   "metadata": {},
   "outputs": [],
   "source": [
    "string = secrets_file.read()"
   ]
  },
  {
   "cell_type": "code",
   "execution_count": 14,
   "id": "dd7e8530",
   "metadata": {},
   "outputs": [],
   "source": [
    "#string"
   ]
  },
  {
   "cell_type": "code",
   "execution_count": 15,
   "id": "90211047",
   "metadata": {},
   "outputs": [],
   "source": [
    "#string.split('\\n')"
   ]
  },
  {
   "cell_type": "code",
   "execution_count": 19,
   "id": "8e3b485c",
   "metadata": {},
   "outputs": [],
   "source": [
    "secrets_dict={}\n",
    "for line in string.split('\\n'):\n",
    "    if len(line) > 0:\n",
    "        secrets_dict[line.split(':')[0]]=line.split(':')[1].strip()"
   ]
  },
  {
   "cell_type": "markdown",
   "id": "eba58232",
   "metadata": {},
   "source": [
    "#### Authentification"
   ]
  },
  {
   "cell_type": "code",
   "execution_count": 20,
   "id": "a1a9b0b1",
   "metadata": {},
   "outputs": [],
   "source": [
    "#Initialize SpotiPy with user credentials\n",
    "sp = spotipy.Spotify(auth_manager=SpotifyClientCredentials(client_id=secrets_dict['clientid'],\n",
    "                                                           client_secret=secrets_dict['clientsecret']))"
   ]
  },
  {
   "cell_type": "code",
   "execution_count": 22,
   "id": "f79a837c",
   "metadata": {},
   "outputs": [],
   "source": [
    "#1hMzceeWw7QiI6vaBkcEJO"
   ]
  },
  {
   "cell_type": "markdown",
   "id": "ff02c7df",
   "metadata": {},
   "source": [
    "# Handling large playlists - 10000 Songs"
   ]
  },
  {
   "cell_type": "code",
   "execution_count": 23,
   "id": "fdc10c3d",
   "metadata": {},
   "outputs": [],
   "source": [
    "playlist = sp.user_playlist_tracks(\"spotify\", \"1hMzceeWw7QiI6vaBkcEJO\")"
   ]
  },
  {
   "cell_type": "code",
   "execution_count": 24,
   "id": "cd738ee2",
   "metadata": {},
   "outputs": [
    {
     "data": {
      "text/plain": [
       "10000"
      ]
     },
     "execution_count": 24,
     "metadata": {},
     "output_type": "execute_result"
    }
   ],
   "source": [
    "playlist[\"total\"] "
   ]
  },
  {
   "cell_type": "code",
   "execution_count": 25,
   "id": "74ea1edd",
   "metadata": {},
   "outputs": [
    {
     "data": {
      "text/plain": [
       "100"
      ]
     },
     "execution_count": 25,
     "metadata": {},
     "output_type": "execute_result"
    }
   ],
   "source": [
    "len(playlist[\"items\"])"
   ]
  },
  {
   "cell_type": "markdown",
   "id": "27695fbf",
   "metadata": {},
   "source": [
    "Function to extract all songs from a playlist"
   ]
  },
  {
   "cell_type": "code",
   "execution_count": 26,
   "id": "3c74cae8",
   "metadata": {},
   "outputs": [
    {
     "data": {
      "text/plain": [
       "'https://api.spotify.com/v1/playlists/1hMzceeWw7QiI6vaBkcEJO/tracks?offset=100&limit=100&additional_types=track'"
      ]
     },
     "execution_count": 26,
     "metadata": {},
     "output_type": "execute_result"
    }
   ],
   "source": [
    "playlist['next']"
   ]
  },
  {
   "cell_type": "code",
   "execution_count": 39,
   "id": "951290cd",
   "metadata": {},
   "outputs": [],
   "source": [
    "#sp.next(playlist)"
   ]
  },
  {
   "cell_type": "code",
   "execution_count": 28,
   "id": "ef1bec93",
   "metadata": {},
   "outputs": [],
   "source": [
    "from random import randint\n",
    "from time import sleep\n",
    "\n",
    "def get_playlist_tracks(playlist_id):\n",
    "    results = sp.user_playlist_tracks(\"spotify\",playlist_id)\n",
    "    tracks = results['items']\n",
    "    while results['next']!=None:\n",
    "        results = sp.next(results)\n",
    "        tracks = tracks + results['items']\n",
    "        sleep(randint(1,3))\n",
    "    return tracks"
   ]
  },
  {
   "cell_type": "code",
   "execution_count": 31,
   "id": "c54404dc",
   "metadata": {},
   "outputs": [
    {
     "data": {
      "text/plain": [
       "10000"
      ]
     },
     "execution_count": 31,
     "metadata": {},
     "output_type": "execute_result"
    }
   ],
   "source": [
    "# this will take some seconds to run\n",
    "\n",
    "all_tracks = get_playlist_tracks(\"1hMzceeWw7QiI6vaBkcEJO\")\n",
    "len(all_tracks)"
   ]
  },
  {
   "cell_type": "markdown",
   "id": "1339ae3d",
   "metadata": {},
   "source": [
    "# Audio features"
   ]
  },
  {
   "cell_type": "code",
   "execution_count": 32,
   "id": "898f02d8",
   "metadata": {},
   "outputs": [],
   "source": [
    "# here we look only at the first page\n",
    "playlist = sp.user_playlist_tracks(\"spotify\", \"1hMzceeWw7QiI6vaBkcEJO\")"
   ]
  },
  {
   "cell_type": "code",
   "execution_count": 33,
   "id": "0adbdc9e",
   "metadata": {},
   "outputs": [
    {
     "data": {
      "text/plain": [
       "'Somebody to Love Me'"
      ]
     },
     "execution_count": 33,
     "metadata": {},
     "output_type": "execute_result"
    }
   ],
   "source": [
    "playlist[\"items\"][12][\"track\"][\"name\"]"
   ]
  },
  {
   "cell_type": "code",
   "execution_count": 34,
   "id": "7553fc82",
   "metadata": {},
   "outputs": [
    {
     "data": {
      "text/plain": [
       "'Red Eyes'"
      ]
     },
     "execution_count": 34,
     "metadata": {},
     "output_type": "execute_result"
    }
   ],
   "source": [
    "playlist[\"items\"][78][\"track\"][\"name\"]"
   ]
  },
  {
   "cell_type": "code",
   "execution_count": 35,
   "id": "6f13d5b0",
   "metadata": {},
   "outputs": [
    {
     "data": {
      "text/plain": [
       "'spotify:track:2Tky1eOpdLXo8yYawnTMcj'"
      ]
     },
     "execution_count": 35,
     "metadata": {},
     "output_type": "execute_result"
    }
   ],
   "source": [
    "# get the uri of a single song:\n",
    "song_uri = playlist[\"items\"][12][\"track\"][\"uri\"]\n",
    "song_uri"
   ]
  },
  {
   "cell_type": "code",
   "execution_count": 36,
   "id": "299345d7",
   "metadata": {},
   "outputs": [
    {
     "data": {
      "text/plain": [
       "[{'danceability': 0.694,\n",
       "  'energy': 0.853,\n",
       "  'key': 6,\n",
       "  'loudness': -4.755,\n",
       "  'mode': 0,\n",
       "  'speechiness': 0.0415,\n",
       "  'acousticness': 0.107,\n",
       "  'instrumentalness': 1.63e-06,\n",
       "  'liveness': 0.225,\n",
       "  'valence': 0.566,\n",
       "  'tempo': 117.896,\n",
       "  'type': 'audio_features',\n",
       "  'id': '2Tky1eOpdLXo8yYawnTMcj',\n",
       "  'uri': 'spotify:track:2Tky1eOpdLXo8yYawnTMcj',\n",
       "  'track_href': 'https://api.spotify.com/v1/tracks/2Tky1eOpdLXo8yYawnTMcj',\n",
       "  'analysis_url': 'https://api.spotify.com/v1/audio-analysis/2Tky1eOpdLXo8yYawnTMcj',\n",
       "  'duration_ms': 297933,\n",
       "  'time_signature': 4}]"
      ]
     },
     "execution_count": 36,
     "metadata": {},
     "output_type": "execute_result"
    }
   ],
   "source": [
    "# get the audio features for that song\n",
    "sp.audio_features(song_uri)"
   ]
  },
  {
   "cell_type": "code",
   "execution_count": 37,
   "id": "a9ea80a2",
   "metadata": {},
   "outputs": [],
   "source": [
    "# get the uri of a single song:\n",
    "song_uri = playlist[\"items\"][78][\"track\"][\"uri\"]"
   ]
  },
  {
   "cell_type": "code",
   "execution_count": 38,
   "id": "1a6658fd",
   "metadata": {},
   "outputs": [
    {
     "data": {
      "text/plain": [
       "[{'danceability': 0.464,\n",
       "  'energy': 0.815,\n",
       "  'key': 10,\n",
       "  'loudness': -6.371,\n",
       "  'mode': 1,\n",
       "  'speechiness': 0.0368,\n",
       "  'acousticness': 0.00871,\n",
       "  'instrumentalness': 0.201,\n",
       "  'liveness': 0.162,\n",
       "  'valence': 0.467,\n",
       "  'tempo': 161.845,\n",
       "  'type': 'audio_features',\n",
       "  'id': '71jGGLe5VtEHjIk5dU2W3S',\n",
       "  'uri': 'spotify:track:71jGGLe5VtEHjIk5dU2W3S',\n",
       "  'track_href': 'https://api.spotify.com/v1/tracks/71jGGLe5VtEHjIk5dU2W3S',\n",
       "  'analysis_url': 'https://api.spotify.com/v1/audio-analysis/71jGGLe5VtEHjIk5dU2W3S',\n",
       "  'duration_ms': 298920,\n",
       "  'time_signature': 4}]"
      ]
     },
     "execution_count": 38,
     "metadata": {},
     "output_type": "execute_result"
    }
   ],
   "source": [
    "# get the audio features for that song\n",
    "sp.audio_features(song_uri)"
   ]
  },
  {
   "cell_type": "code",
   "execution_count": null,
   "id": "c8df5d18",
   "metadata": {},
   "outputs": [],
   "source": []
  }
 ],
 "metadata": {
  "kernelspec": {
   "display_name": "Python 3 (ipykernel)",
   "language": "python",
   "name": "python3"
  },
  "language_info": {
   "codemirror_mode": {
    "name": "ipython",
    "version": 3
   },
   "file_extension": ".py",
   "mimetype": "text/x-python",
   "name": "python",
   "nbconvert_exporter": "python",
   "pygments_lexer": "ipython3",
   "version": "3.10.9"
  }
 },
 "nbformat": 4,
 "nbformat_minor": 5
}
